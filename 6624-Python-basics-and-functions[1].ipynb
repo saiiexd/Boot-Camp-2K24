{
 "cells": [
  {
   "cell_type": "code",
   "execution_count": null,
   "metadata": {},
   "outputs": [],
   "source": [
    "# Python Input and Output Statements\n",
    "\n",
    "# Input statement\n",
    "name = input(\"Enter your name: \")\n",
    "\n",
    "# Output statement with keyword arguments\n",
    "print(\"Hello,\", name)"
   ]
  },
  {
   "cell_type": "code",
   "execution_count": null,
   "metadata": {},
   "outputs": [],
   "source": [
    "# Data Types in Python\n",
    "int_num = 12322239\n",
    "float_num = 1.21\n",
    "complex_num = 1 + 2j\n",
    "string = \"Hello, World!\"\n",
    "boolean = False\n",
    "list_example = [1, 2, 3, 4, 5]\n",
    "tuple_example = (1, 2, 3, 4, 5)\n",
    "dict_example = {\"name\": \"Anushka\", \"age\": 19}\n",
    "set_example = {1, 2, 3, 4, 5}"
   ]
  },
  {
   "cell_type": "code",
   "execution_count": null,
   "metadata": {},
   "outputs": [],
   "source": [
    "# Expressions and Operators\n",
    "a = 10\n",
    "b = 20\n",
    "\n",
    "# Arithmetic Operators\n",
    "# Addition\n",
    "print(a + b)\n",
    "# Subtraction\n",
    "print(a - b)  \n",
    "# Multiplication\n",
    "print(a * b)  \n",
    "# Division\n",
    "print(a / b) \n",
    "# Floor Division\n",
    "print(a // b)\n",
    "# Modulus\n",
    "print(a % b)  \n",
    "# Exponentiation\n",
    "print(a ** b) \n",
    "\n",
    "# Comparison Operators\n",
    "# Equal to\n",
    "print(a == b) \n",
    "# Not equal to\n",
    "print(a != b) \n",
    "# Greater than\n",
    "print(a > b)  \n",
    "# Less than\n",
    "print(a < b)  \n",
    "# Greater than or equal to\n",
    "print(a >= b)\n",
    "# Less than or equal to\n",
    "print(a <= b) \n",
    "\n",
    "# Logical Operators\n",
    "# and: True if both condition are true else false\n",
    "print(a > 5 and b < 5)  \n",
    "# or: True if any contition is satisfy else false\n",
    "print(a > 5 or b < 1) \n",
    "# not: negates the condition \n",
    "print(not(a > 5 and b < 5)) "
   ]
  },
  {
   "cell_type": "code",
   "execution_count": null,
   "metadata": {},
   "outputs": [],
   "source": [
    "# Type Casting\n",
    "int_from_float = int(3.14)\n",
    "float_from_int = float(10)\n",
    "string_from_int = str(100)\n",
    "list_from_string = list(\"Hello\")\n",
    "tuple_from_list = tuple([1, 2, 3, 4, 5])\n",
    "set_from_list = set([1, 2, 3, 4, 5])\n",
    "\n",
    "print(int_from_float)\n",
    "print(float_from_int)\n",
    "print(string_from_int)\n",
    "print(list_from_string)\n",
    "print(tuple_from_list)\n",
    "print(set_from_list)"
   ]
  },
  {
   "cell_type": "code",
   "execution_count": null,
   "metadata": {},
   "outputs": [],
   "source": [
    "# Looping Statements\n",
    "# For loop\n",
    "fruits = [\"apple\", \"banana\", \"cherry\"]\n",
    "for fruit in fruits:\n",
    "    print(fruit)\n",
    "\n",
    "# While loop\n",
    "count = 0\n",
    "while count < 5:\n",
    "    print(count)\n",
    "    count += 1"
   ]
  },
  {
   "cell_type": "code",
   "execution_count": null,
   "metadata": {},
   "outputs": [],
   "source": [
    "# Jumping Statements\n",
    "# break statement\n",
    "for i in range(10):\n",
    "    if i == 5:\n",
    "        break\n",
    "    print(i)\n",
    "\n",
    "# continue statement\n",
    "for i in range(10):\n",
    "    if i == 5:\n",
    "        continue\n",
    "    print(i)"
   ]
  },
  {
   "cell_type": "code",
   "execution_count": null,
   "metadata": {},
   "outputs": [],
   "source": [
    "# Special Functions\n",
    "names = [\"Anushka\", \"Sai\", \"Venu\"]\n",
    "\n",
    "# len()\n",
    "print(len(names))  \n",
    "\n",
    "# id()\n",
    "print(id(names))  \n",
    "\n",
    "# type()\n",
    "print(type(names))  \n",
    "\n",
    "# range()\n",
    "for i in range(5):\n",
    "    print(i) "
   ]
  },
  {
   "cell_type": "code",
   "execution_count": null,
   "metadata": {},
   "outputs": [],
   "source": [
    "def greet(name): #Function definition with parameter 'name'\n",
    "    \"\"\"This function prints a greeting message.\"\"\"\n",
    "    print(\"Hello\", name + \"!\")\n",
    "\n",
    "# Function call with argument 'Alice'\n",
    "greet(\"World\")"
   ]
  },
  {
   "cell_type": "code",
   "execution_count": null,
   "metadata": {},
   "outputs": [],
   "source": [
    "def calculate_area(length, width):\n",
    "  \"\"\"This function calculates the area of a rectangle.\"\"\"\n",
    "  return length * width\n",
    "\n",
    "# Calling the function with positional arguments\n",
    "area = calculate_area(10, 20) \n",
    "print(area)  "
   ]
  },
  {
   "cell_type": "code",
   "execution_count": null,
   "metadata": {},
   "outputs": [],
   "source": [
    "def calculate_average(*numbers):\n",
    "  \"\"\"This function calculates the average of any number of arguments.\"\"\"\n",
    "  if len(numbers) == 0:\n",
    "    print(\"Please provide at least one number.\")\n",
    "    return\n",
    "  return sum(numbers) / len(numbers)\n",
    "\n",
    "# Calling with variable arguments\n",
    "average = calculate_average(10, 20, 30)\n",
    "print(average)  \n",
    "\n",
    "# Calling without arguments\n",
    "calculate_average()  "
   ]
  },
  {
   "cell_type": "code",
   "execution_count": null,
   "metadata": {},
   "outputs": [],
   "source": [
    "#lambda Function \n",
    "lambda arguments : expression #syntax\n",
    "\n",
    "# simple addition in lambda function\n",
    "add = lambda x, y: x + y\n",
    "result = add(1, 2)\n",
    "print(result)  \n",
    "\n",
    "# string formating \n",
    "greeting = lambda name: f\"Hello, {name}!\"\n",
    "print(greeting(\"Anushka\"))\n",
    "\n",
    "#sorting a list based on lengh \n",
    "words = [\"apple\", \"banana\", \"mango\", \"grapes\"]\n",
    "sorted_words = sorted(words, key=lambda word: len(word))\n",
    "\n",
    "print(sorted_words)  # Output: ['grapes', 'apple', 'mango', 'banana']"
   ]
  },
  {
   "cell_type": "code",
   "execution_count": null,
   "metadata": {},
   "outputs": [],
   "source": [
    "# map()\n",
    "numbers = [1, 2, 3, 4, 5]\n",
    "\n",
    "# Squaring each number using map() and a lambda function\n",
    "squared_numbers = map(lambda x: x * x, numbers)\n",
    "\n",
    "# map() returns an iterator, convert it to a list for printing\n",
    "print(list(squared_numbers))"
   ]
  },
  {
   "cell_type": "code",
   "execution_count": null,
   "metadata": {},
   "outputs": [],
   "source": [
    "#filter()\n",
    "numbers = [1, 2, 3, 4, 5, 6]\n",
    "\n",
    "# Filtering even numbers using filter() and a lambda function\n",
    "even_numbers = filter(lambda x: x % 2 == 0, numbers)\n",
    "\n",
    "# filter() also returns an iterator, convert it to a list for printing\n",
    "print(list(even_numbers)) "
   ]
  },
  {
   "cell_type": "code",
   "execution_count": null,
   "metadata": {},
   "outputs": [],
   "source": [
    "#reduce()\n",
    "from functools import reduce  # Necessary to import reduce\n",
    "\n",
    "numbers = [1, 2, 3, 4]\n",
    "\n",
    "# Finding the product of all elements using reduce\n",
    "product = reduce(lambda x, y: x * y, numbers)\n",
    "\n",
    "print(product) \n",
    "\n",
    "#alternative approach \n",
    "product = 1\n",
    "for num in numbers:\n",
    "  product *= num\n",
    "\n",
    "print(product)"
   ]
  },
  {
   "cell_type": "code",
   "execution_count": null,
   "metadata": {},
   "outputs": [],
   "source": [
    "# return function\n",
    "def square(x):\n",
    "  \"\"\"This function squares a number.\"\"\"\n",
    "  return x * x\n",
    "\n",
    "result = square(5)\n",
    "print(result)"
   ]
  },
  {
   "cell_type": "code",
   "execution_count": 2,
   "metadata": {},
   "outputs": [
    {
     "name": "stdout",
     "output_type": "stream",
     "text": [
      "Outside function: 10\n",
      "Inside function: 10 20\n",
      "Inside inner function: 10 20 30\n"
     ]
    }
   ],
   "source": [
    "#local and global variable\n",
    "\n",
    "x = 10  # Global variable\n",
    "\n",
    "def my_function():\n",
    "  y = 20  # Local variable\n",
    "  print(\"Inside function:\", x, y)  # Accessing both global and local variables\n",
    "\n",
    "  def inner_function():\n",
    "    z = 30  # Local variable within inner_function\n",
    "    print(\"Inside inner function:\", x, y, z)  # Accessing global, local (outer), and local (inner) variables\n",
    "\n",
    "  inner_function()  # Calling inner_function\n",
    "\n",
    "print(\"Outside function:\", x)  # Accessing only the global variable\n",
    "\n",
    "my_function()\n"
   ]
  }
 ],
 "metadata": {
  "kernelspec": {
   "display_name": "Python 3",
   "language": "python",
   "name": "python3"
  },
  "language_info": {
   "codemirror_mode": {
    "name": "ipython",
    "version": 3
   },
   "file_extension": ".py",
   "mimetype": "text/x-python",
   "name": "python",
   "nbconvert_exporter": "python",
   "pygments_lexer": "ipython3",
   "version": "3.12.2"
  }
 },
 "nbformat": 4,
 "nbformat_minor": 2
}
