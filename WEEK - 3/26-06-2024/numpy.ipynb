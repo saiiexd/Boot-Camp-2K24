{
 "cells": [
  {
   "cell_type": "code",
   "execution_count": 4,
   "metadata": {},
   "outputs": [
    {
     "name": "stdout",
     "output_type": "stream",
     "text": [
      "[ 3  6 32  7]\n"
     ]
    }
   ],
   "source": [
    "import numpy as np\n",
    "\n",
    "myarr = np.array([3,6,32,7])\n",
    "print(myarr)"
   ]
  },
  {
   "cell_type": "code",
   "execution_count": 5,
   "metadata": {},
   "outputs": [
    {
     "name": "stdout",
     "output_type": "stream",
     "text": [
      "42\n"
     ]
    }
   ],
   "source": [
    "#0-D array\n",
    "\n",
    "a = np.array(42)\n",
    "print(a)"
   ]
  },
  {
   "cell_type": "code",
   "execution_count": 6,
   "metadata": {},
   "outputs": [
    {
     "name": "stdout",
     "output_type": "stream",
     "text": [
      "[[1 2 3]\n",
      " [4 5 6]]\n"
     ]
    }
   ],
   "source": [
    "#1-D array\n",
    "\n",
    "b = np.array([[1,2,3],[4,5,6]])\n",
    "print(b)"
   ]
  },
  {
   "cell_type": "code",
   "execution_count": 7,
   "metadata": {},
   "outputs": [
    {
     "name": "stdout",
     "output_type": "stream",
     "text": [
      "[[[1 2 3]\n",
      "  [4 5 6]]\n",
      "\n",
      " [[7 8 9]\n",
      "  [0 1 2]]]\n"
     ]
    }
   ],
   "source": [
    "#2-D array \n",
    "\n",
    "c = np.array([[[1,2,3],[4,5,6]],[[7,8,9],[0,1,2]]])\n",
    "print(c)"
   ]
  },
  {
   "cell_type": "code",
   "execution_count": 8,
   "metadata": {},
   "outputs": [
    {
     "name": "stdout",
     "output_type": "stream",
     "text": [
      "1\n",
      "0\n",
      "2\n",
      "3\n"
     ]
    }
   ],
   "source": [
    "#to get the dimension of array\n",
    "\n",
    "print(myarr.ndim)\n",
    "print(a.ndim)\n",
    "print(b.ndim)\n",
    "print(c.ndim)"
   ]
  },
  {
   "cell_type": "code",
   "execution_count": 9,
   "metadata": {},
   "outputs": [
    {
     "name": "stdout",
     "output_type": "stream",
     "text": [
      "<class 'numpy.ndarray'>\n",
      "<class 'numpy.ndarray'>\n",
      "<class 'numpy.ndarray'>\n",
      "<class 'numpy.ndarray'>\n"
     ]
    }
   ],
   "source": [
    "#to know the type of array\n",
    "\n",
    "print(type(a))\n",
    "print(type(b))\n",
    "print(type(c))\n",
    "print(type(myarr))"
   ]
  },
  {
   "cell_type": "code",
   "execution_count": 10,
   "metadata": {},
   "outputs": [
    {
     "name": "stdout",
     "output_type": "stream",
     "text": [
      "[10 20 30 40 50]\n",
      "[10. 20. 30. 40. 50.]\n",
      "10.0\n",
      "20.0\n",
      "30.0\n",
      "40.0\n",
      "50.0\n"
     ]
    }
   ],
   "source": [
    "r = np.array([10,20,30,40,50])\n",
    "print(r)\n",
    "\n",
    "\n",
    "#as array usage\n",
    "#create n dim array with this\n",
    "res = np.asarray(r,dtype=\"float\",order=\"C\")\n",
    "print(res)\n",
    "\n",
    "#to check iter\n",
    "for i in np.nditer(res):\n",
    "    print(i)"
   ]
  },
  {
   "cell_type": "code",
   "execution_count": 11,
   "metadata": {},
   "outputs": [
    {
     "name": "stdout",
     "output_type": "stream",
     "text": [
      "[[10 20 30]\n",
      " [40 50 60]]\n",
      "10\n",
      "40\n",
      "20\n",
      "50\n",
      "30\n",
      "60\n"
     ]
    }
   ],
   "source": [
    "#iter funtion\n",
    "\n",
    "t = np.array([[10,20,30],[40,50,60]])\n",
    "print(t)\n",
    "\n",
    "res1 = np.asarray(t,dtype=\"int\",order=\"F\")\n",
    "\n",
    "#to check iter\n",
    "for i in np.nditer(res1):\n",
    "    print(i)"
   ]
  },
  {
   "cell_type": "code",
   "execution_count": 12,
   "metadata": {},
   "outputs": [
    {
     "name": "stdout",
     "output_type": "stream",
     "text": [
      "[b'h' b'e' b'l' b'l' b'o' b' ' b'w' b'e' b'l' b'c']\n"
     ]
    }
   ],
   "source": [
    "#b will take letters as bytes\n",
    "\n",
    "#buffer function\n",
    "s = b\"hello welcome to python\"\n",
    "res2 = np.frombuffer(s, dtype='S1', count=10, offset=0)\n",
    "print(res2)\n"
   ]
  },
  {
   "cell_type": "code",
   "execution_count": 13,
   "metadata": {},
   "outputs": [
    {
     "name": "stdout",
     "output_type": "stream",
     "text": [
      "[345.  45. 356.  47. 567.  34. 634.   5.]\n"
     ]
    }
   ],
   "source": [
    "#iter function\n",
    "list = [345,45,356,47,567,34,634,5]\n",
    "d = np.fromiter(list,dtype=\"float\",count=-1)\n",
    "print(d)"
   ]
  },
  {
   "cell_type": "code",
   "execution_count": 27,
   "metadata": {},
   "outputs": [
    {
     "name": "stdout",
     "output_type": "stream",
     "text": [
      "[[[10 20 30]\n",
      "  [40 50 60]\n",
      "  [70 80 90]]]\n"
     ]
    }
   ],
   "source": [
    "#slicing\n",
    "\n",
    "arr = np.array([[[10,20,30],[40,50,60],[70,80,90]]])\n",
    "print(arr[0:2])\n"
   ]
  }
 ],
 "metadata": {
  "kernelspec": {
   "display_name": "Python 3",
   "language": "python",
   "name": "python3"
  },
  "language_info": {
   "codemirror_mode": {
    "name": "ipython",
    "version": 3
   },
   "file_extension": ".py",
   "mimetype": "text/x-python",
   "name": "python",
   "nbconvert_exporter": "python",
   "pygments_lexer": "ipython3",
   "version": "3.12.4"
  }
 },
 "nbformat": 4,
 "nbformat_minor": 2
}
