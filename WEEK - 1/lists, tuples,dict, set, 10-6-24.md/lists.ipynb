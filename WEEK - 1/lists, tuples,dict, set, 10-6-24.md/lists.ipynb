{
 "cells": [
  {
   "cell_type": "code",
   "execution_count": null,
   "metadata": {},
   "outputs": [],
   "source": [
    "# Creating a list of numbers\n",
    "numbers = [1, 2, 3, 4, 5]\n",
    "\n",
    "# Creating a list of strings\n",
    "fruits = [\"apple\", \"banana\", \"cherry\"]\n",
    "\n",
    "# Creating a list with mixed data types\n",
    "mixed_list = [10, \"hello\", True, 3.14]\n"
   ]
  },
  {
   "cell_type": "code",
   "execution_count": null,
   "metadata": {},
   "outputs": [],
   "source": [
    "# Accessing elements\n",
    "numbers = [1, 2, 3, 4, 5]\n",
    "print(numbers[0]) \n",
    "print(numbers[2])  \n",
    "#using negative index\n",
    "print(numbers[-1])  \n",
    "print(numbers[-3])  \n"
   ]
  },
  {
   "cell_type": "code",
   "execution_count": null,
   "metadata": {},
   "outputs": [],
   "source": [
    "#List Slicing \n",
    "\n",
    "numbers = [1, 2, 3, 4, 5, 6, 7, 8, 9]\n",
    "\n",
    "print(numbers[2:6])    \n",
    "print(numbers[:5])    \n",
    "print(numbers[3:])     \n",
    "print(numbers[::2])    "
   ]
  },
  {
   "cell_type": "code",
   "execution_count": null,
   "metadata": {},
   "outputs": [],
   "source": [
    "#List Methods and Operations:\n",
    "\n",
    "fruits = [\"apple\", \"banana\", \"cherry\"]\n",
    "\n",
    "# Adding elements to a list\n",
    "fruits.append(\"orange\")     \n",
    "fruits.insert(1, \"grape\")   \n",
    "\n",
    "# Removing elements from a list\n",
    "fruits.remove(\"banana\")    \n",
    "popped_item = fruits.pop()  \n",
    "\n",
    "# Sorting a list\n",
    "numbers = [5, 2, 8, 1, 3]\n",
    "numbers.sort()              \n",
    "sorted_numbers = sorted(numbers) \n",
    "\n",
    "# List concatenation and repetition\n",
    "combined_list = fruits + numbers  \n",
    "repeated_list = fruits * 3        \n",
    "\n",
    "print(combined_list)\n",
    "print(repeated_list)\n"
   ]
  }
 ],
 "metadata": {
  "language_info": {
   "name": "python"
  }
 },
 "nbformat": 4,
 "nbformat_minor": 2
}
