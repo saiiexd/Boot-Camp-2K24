{
 "cells": [
  {
   "cell_type": "code",
   "execution_count": null,
   "metadata": {},
   "outputs": [],
   "source": [
    "# Creating a Dictionary:\n",
    "\n",
    "# Creating a dictionary\n",
    "person = {\n",
    "    \"name\": \"John\",\n",
    "    \"age\": 30,\n",
    "    \"city\": \"New York\"\n",
    "}\n",
    "print(person)  \n"
   ]
  },
  {
   "cell_type": "code",
   "execution_count": null,
   "metadata": {},
   "outputs": [],
   "source": [
    "#Accessing Values:\n",
    "\n",
    "# Accessing values using keys\n",
    "print(person[\"name\"]) \n",
    "print(person.get(\"age\")) "
   ]
  },
  {
   "cell_type": "code",
   "execution_count": null,
   "metadata": {},
   "outputs": [],
   "source": [
    "#Modifying and Adding Elements:\n",
    "\n",
    "# Modifying a value\n",
    "person[\"age\"] = 35\n",
    "print(person)  \n",
    "\n",
    "# Adding a new key-value pair\n",
    "person[\"email\"] = \"john@example.com\"\n",
    "print(person)  "
   ]
  },
  {
   "cell_type": "code",
   "execution_count": null,
   "metadata": {},
   "outputs": [],
   "source": [
    "#Removing Elements:\n",
    "\n",
    "# Removing a key-value pair\n",
    "del person[\"city\"]\n",
    "print(person)  \n",
    "\n",
    "# Removing and returning a value using pop()\n",
    "email = person.pop(\"email\")\n",
    "print(email)  \n",
    "print(person) "
   ]
  },
  {
   "cell_type": "code",
   "execution_count": null,
   "metadata": {},
   "outputs": [],
   "source": [
    "#Looping Through a Dictionary:\n",
    "\n",
    "# Looping through keys\n",
    "for key in person:\n",
    "    print(key) \n",
    "# Looping through values\n",
    "for value in person.values():\n",
    "    print(value)  \n",
    "# Looping through key-value pairs\n",
    "for key, value in person.items():\n",
    "    print(f\"{key}: {value}\") "
   ]
  },
  {
   "cell_type": "code",
   "execution_count": null,
   "metadata": {},
   "outputs": [],
   "source": [
    "#Dictionary Methods:\n",
    "\n",
    "# Dictionary methods\n",
    "keys_list = list(person.keys())\n",
    "values_list = list(person.values())\n",
    "print(keys_list)  \n",
    "print(values_list)  \n",
    "person.clear()\n",
    "print(person)  "
   ]
  },
  {
   "cell_type": "code",
   "execution_count": null,
   "metadata": {},
   "outputs": [],
   "source": []
  }
 ],
 "metadata": {
  "language_info": {
   "name": "python"
  }
 },
 "nbformat": 4,
 "nbformat_minor": 2
}
