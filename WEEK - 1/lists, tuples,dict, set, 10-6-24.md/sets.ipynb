{
 "cells": [
  {
   "cell_type": "code",
   "execution_count": null,
   "metadata": {},
   "outputs": [],
   "source": [
    "\n",
    "# Creating an empty set\n",
    "empty_set = set()\n",
    "print(empty_set) \n",
    "\n",
    "# Creating a set with elements\n",
    "my_set = {1, 2, 3, 4}\n",
    "print(my_set)  \n"
   ]
  },
  {
   "cell_type": "code",
   "execution_count": null,
   "metadata": {},
   "outputs": [],
   "source": [
    "#adding elements\n",
    "\n",
    "my_set = {1, 2, 3}\n",
    "\n",
    "# Adding a single element\n",
    "my_set.add(4)\n",
    "print(my_set) \n",
    "\n",
    "# Adding multiple elements\n",
    "my_set.update([5, 6, 7])\n",
    "print(my_set)"
   ]
  },
  {
   "cell_type": "code",
   "execution_count": null,
   "metadata": {},
   "outputs": [],
   "source": [
    "#removing elements\n",
    "\n",
    "my_set = {1, 2, 3, 4, 5}\n",
    "\n",
    "# Removing a specific element\n",
    "my_set.remove(3)\n",
    "print(my_set) \n",
    "\n",
    "# Removing and returning an arbitrary element\n",
    "element = my_set.pop()\n",
    "print(element)  \n",
    "print(my_set)   \n",
    "\n",
    "# Removing all elements\n",
    "my_set.clear()\n",
    "print(my_set) "
   ]
  },
  {
   "cell_type": "code",
   "execution_count": null,
   "metadata": {},
   "outputs": [],
   "source": [
    "#Set Operations (Union, Intersection, Difference):\n",
    "\n",
    "set1 = {1, 2, 3}\n",
    "set2 = {3, 4, 5}\n",
    "\n",
    "# Union of sets\n",
    "union_set = set1.union(set2)\n",
    "print(union_set) \n",
    "\n",
    "# Intersection of sets\n",
    "intersection_set = set1.intersection(set2)\n",
    "print(intersection_set)  \n",
    "\n",
    "# Difference of sets\n",
    "difference_set = set1.difference(set2)\n",
    "print(difference_set)  \n"
   ]
  },
  {
   "cell_type": "code",
   "execution_count": null,
   "metadata": {},
   "outputs": [],
   "source": [
    "#Membership Test and Length of Set:\n",
    "\n",
    "my_set = {1, 2, 3, 4, 5}\n",
    "\n",
    "# Membership test\n",
    "print(3 in my_set)  \n",
    "print(6 in my_set)  \n",
    "\n",
    "# Length of set\n",
    "print(len(my_set))  \n"
   ]
  },
  {
   "cell_type": "code",
   "execution_count": null,
   "metadata": {},
   "outputs": [],
   "source": [
    "#Iterating Through a Set:\n",
    "\n",
    "my_set = {1, 2, 3}\n",
    "\n",
    "# Iterating through set elements\n",
    "for item in my_set:\n",
    "    print(item)\n"
   ]
  }
 ],
 "metadata": {
  "language_info": {
   "name": "python"
  }
 },
 "nbformat": 4,
 "nbformat_minor": 2
}
