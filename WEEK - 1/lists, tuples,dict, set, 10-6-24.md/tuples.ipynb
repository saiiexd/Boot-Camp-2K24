{
 "cells": [
  {
   "cell_type": "code",
   "execution_count": null,
   "metadata": {},
   "outputs": [],
   "source": [
    "# Creating tuples\n",
    "empty_tuple = ()\n",
    "single_element_tuple = (42,)  \n",
    "mixed_tuple = (\"apple\", 123, [1, 2, 3])\n",
    "nested_tuple = ((1, 2), (\"a\", \"b\", \"c\"))\n"
   ]
  },
  {
   "cell_type": "code",
   "execution_count": null,
   "metadata": {},
   "outputs": [],
   "source": [
    "#accessing tuples\n",
    "\n",
    "my_tuple = (\"apple\", \"banana\", \"cherry\")\n",
    "print(my_tuple[0])  \n",
    "print(my_tuple[1])  \n",
    "print(my_tuple[-1]) \n"
   ]
  },
  {
   "cell_type": "code",
   "execution_count": 1,
   "metadata": {},
   "outputs": [
    {
     "name": "stdout",
     "output_type": "stream",
     "text": [
      "apple\n",
      "banana\n",
      "cherry\n"
     ]
    }
   ],
   "source": [
    "# Tuple packing\n",
    "my_tuple = \"apple\", \"banana\", \"cherry\"\n",
    "\n",
    "# Tuple unpacking\n",
    "fruit1, fruit2, fruit3 = my_tuple\n",
    "print(fruit1)  \n",
    "print(fruit2) \n",
    "print(fruit3)  \n"
   ]
  },
  {
   "cell_type": "code",
   "execution_count": 2,
   "metadata": {},
   "outputs": [
    {
     "name": "stdout",
     "output_type": "stream",
     "text": [
      "(1, 2, 3, 4, 5)\n"
     ]
    }
   ],
   "source": [
    "#immutable nature\n",
    "\n",
    "my_tuple = (1, 2, 3)\n",
    "new_tuple = my_tuple + (4, 5)\n",
    "print(new_tuple) \n"
   ]
  },
  {
   "cell_type": "code",
   "execution_count": null,
   "metadata": {},
   "outputs": [],
   "source": [
    "#tuple methods\n",
    "\n",
    "my_tuple = (1, 2, 2, 3, 4, 2)\n",
    "print(my_tuple.count(2))  \n",
    "print(my_tuple.index(3))  "
   ]
  },
  {
   "cell_type": "code",
   "execution_count": null,
   "metadata": {},
   "outputs": [],
   "source": [
    "#Tuple as Return Values\n",
    "def get_coordinates():\n",
    "    return 10, 20  # Returns a tuple\n",
    "\n",
    "x, y = get_coordinates()\n",
    "print(x, y)  # Output: 10 20\n"
   ]
  }
 ],
 "metadata": {
  "kernelspec": {
   "display_name": "Python 3",
   "language": "python",
   "name": "python3"
  },
  "language_info": {
   "codemirror_mode": {
    "name": "ipython",
    "version": 3
   },
   "file_extension": ".py",
   "mimetype": "text/x-python",
   "name": "python",
   "nbconvert_exporter": "python",
   "pygments_lexer": "ipython3",
   "version": "3.12.2"
  }
 },
 "nbformat": 4,
 "nbformat_minor": 2
}
