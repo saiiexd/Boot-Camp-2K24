{
 "cells": [
  {
   "cell_type": "code",
   "execution_count": 1,
   "metadata": {},
   "outputs": [],
   "source": [
    "import tkinter as tk\n",
    "from tkinter import messagebox, colorchooser\n",
    "\n",
    "# Root window is the main window of the application\n",
    "root = tk.Tk()\n",
    "root.title(\"Tkinter Practice\")  \n",
    "\n",
    "# Label is a widget used to display text or images\n",
    "label = tk.Label(root, text=\"Hello, Tkinter!\")\n",
    "label.pack() \n",
    "\n",
    "# Button is a widget that performs an action when clicked\n",
    "def change_color():\n",
    "    \"\"\"Change the color of the label\"\"\"\n",
    "    color = colorchooser.askcolor(title=\"Choose a color\")  \n",
    "    if color[1]: \n",
    "        label.config(fg=color[1])  \n",
    "\n",
    "button = tk.Button(root, text=\"Change Color\", command=change_color)\n",
    "button.pack() \n",
    "\n",
    "# Radiobutton is a widget that allows the user to select one option from a set\n",
    "var = tk.IntVar() \n",
    "def show_selection():\n",
    "    \"\"\"Display the selected option in the label\"\"\"\n",
    "    selection = f\"You selected option {var.get()}\"\n",
    "    label.config(text=selection)\n",
    "\n",
    "tk.Radiobutton(root, text=\"Option 1\", variable=var, value=1, command=show_selection).pack()\n",
    "tk.Radiobutton(root, text=\"Option 2\", variable=var, value=2, command=show_selection).pack()\n",
    "\n",
    "# Listbox is a widget that displays a list of items\n",
    "listbox = tk.Listbox(root)\n",
    "items = [\"Item 1\", \"Item 2\", \"Item 3\"]  \n",
    "for item in items:\n",
    "    listbox.insert(tk.END, item)  \n",
    "listbox.pack()\n",
    "\n",
    "# Messagebox is a dialog box used to display messages\n",
    "def show_message():\n",
    "    \"\"\"Show a message box\"\"\"\n",
    "    messagebox.showinfo(\"Message\", \"This is a message box!\")\n",
    "\n",
    "message_button = tk.Button(root, text=\"Show Message\", command=show_message)\n",
    "message_button.pack()\n",
    "\n",
    "# Image is a widget that displays an image\n",
    "try:\n",
    "    image = tk.PhotoImage(file=\"logo.png\")  \n",
    "    image_label = tk.Label(root, image=image)\n",
    "    image_label.pack()\n",
    "except tk.TclError as e:\n",
    "    print(f\"Error loading image: {e}\")\n",
    "\n",
    "root.mainloop()  # Start the main event loop\n"
   ]
  }
 ],
 "metadata": {
  "kernelspec": {
   "display_name": "Python 3",
   "language": "python",
   "name": "python3"
  },
  "language_info": {
   "codemirror_mode": {
    "name": "ipython",
    "version": 3
   },
   "file_extension": ".py",
   "mimetype": "text/x-python",
   "name": "python",
   "nbconvert_exporter": "python",
   "pygments_lexer": "ipython3",
   "version": "3.12.4"
  }
 },
 "nbformat": 4,
 "nbformat_minor": 2
}
