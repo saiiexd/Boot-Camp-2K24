{
 "cells": [
  {
   "cell_type": "code",
   "execution_count": 16,
   "metadata": {},
   "outputs": [],
   "source": [
    "\n",
    "# Import the Tkinter module\n",
    "import tkinter as tk\n",
    "from tkinter import messagebox\n",
    "\n",
    "\n",
    "# Creating the main application window\n",
    "root = tk.Tk()\n",
    "\n",
    "# The Tk() function initializes the main window of the application.\n",
    "\n",
    "# Set the title of the main window\n",
    "root.title(\"Tkinter-Practice and learnings\")\n",
    "\n",
    "\n",
    "# Set the dimensions \n",
    "root.geometry(\"420x420\")\n",
    "\n",
    "\n",
    "# Define the function that will be called when the button is clicked\n",
    "def on_button_click():\n",
    "    messagebox.showinfo(\"Hello world!\", \"Button clicked!\")\n",
    "\n",
    "# Create a label widget\n",
    "label = tk.Label(root, text=\"Welcome\", font=(\"Arial\", 20))\n",
    "\n",
    "\n",
    "# Add the label to the main window\n",
    "label.pack(pady=20)\n",
    "\n",
    "# The pack() method adds the widget to the window and manages its placement.\n",
    "\n",
    "# Create a button widget\n",
    "button = tk.Button(root, text=\"Click here\", command=on_button_click)\n",
    "\n",
    "\n",
    "# Add the button to the main window\n",
    "button.pack(pady=10)\n",
    "\n",
    "# Start the Tkinter event loop\n",
    "root.mainloop()"
   ]
  }
 ],
 "metadata": {
  "kernelspec": {
   "display_name": "Python 3",
   "language": "python",
   "name": "python3"
  },
  "language_info": {
   "codemirror_mode": {
    "name": "ipython",
    "version": 3
   },
   "file_extension": ".py",
   "mimetype": "text/x-python",
   "name": "python",
   "nbconvert_exporter": "python",
   "pygments_lexer": "ipython3",
   "version": "3.12.2"
  }
 },
 "nbformat": 4,
 "nbformat_minor": 2
}
