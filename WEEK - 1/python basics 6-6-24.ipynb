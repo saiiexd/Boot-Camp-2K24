{
 "cells": [
  {
   "cell_type": "code",
   "execution_count": null,
   "metadata": {},
   "outputs": [],
   "source": [
    "# Python Input and Output Statements\n",
    "name = input(\"Enter your name: \")\n",
    "print(\"Hello,\", name)\n"
   ]
  },
  {
   "cell_type": "code",
   "execution_count": null,
   "metadata": {},
   "outputs": [],
   "source": [
    "# Data Types in Python\n",
    "int_num = 34872342\n",
    "float_num = 213.34\n",
    "complex_num = 5 + 3j\n",
    "string = \"Hello, World!\"\n",
    "boolean = False or True\n",
    "list_example = [3, 5, 7, 9, 11]\n",
    "tuple_example = (2, 4, 6, 8, 10)\n",
    "dict_example = {\"name\": \"sai venkat\", \"age\": 19}\n",
    "set_example = {1, 2, 3, 4, 5}"
   ]
  },
  {
   "cell_type": "code",
   "execution_count": null,
   "metadata": {},
   "outputs": [],
   "source": [
    "# Expressions and Operators\n",
    "a = 423\n",
    "b = 32\n",
    "# Arithmetic Operators\n",
    "# Addition\n",
    "print(a + b)\n",
    "# Subtraction\n",
    "print(a - b)  \n",
    "# Multiplication\n",
    "print(a * b)  \n",
    "# Division\n",
    "print(a / b) \n",
    "# Floor Division\n",
    "print(a // b)\n",
    "# Modulus\n",
    "print(a % b)  \n",
    "# Exponentiation\n",
    "print(a ** b) \n",
    "\n",
    "# Comparison Operators\n",
    "# Equal to\n",
    "print(a == b) \n",
    "# Not equal to\n",
    "print(a != b) \n",
    "# Greater than\n",
    "print(a > b)  \n",
    "# Less than\n",
    "print(a < b)  \n",
    "# Greater than or equal to\n",
    "print(a >= b)\n",
    "# Less than or equal to\n",
    "print(a <= b) \n",
    "\n",
    "# Logical Operators\n",
    "# and: True if both condition are true else false\n",
    "print(a > 5 and b < 5)  \n",
    "# or: True if any contition is satisfy else false\n",
    "print(a > 5 or b < 1) \n",
    "# not: negates the condition \n",
    "print(not(a > 5 and b < 5)) "
   ]
  },
  {
   "cell_type": "code",
   "execution_count": 3,
   "metadata": {},
   "outputs": [
    {
     "name": "stdout",
     "output_type": "stream",
     "text": [
      "324\n",
      "10.0\n",
      "12340\n",
      "['H', 'e', 'l', 'l', 'o']\n",
      "(1, 2, 3, 4, 5)\n",
      "{1, 2, 3, 4, 5}\n"
     ]
    }
   ],
   "source": [
    "# Type Casting\n",
    "int_from_float = int(324.14)\n",
    "float_from_int = float(10)\n",
    "string_from_int = str(12340)\n",
    "list_from_string = list(\"Hello\")\n",
    "tuple_from_list = tuple([1, 2, 3, 4, 5])\n",
    "set_from_list = set([1, 2, 3, 4, 5])\n",
    "\n",
    "print(int_from_float)\n",
    "print(float_from_int)\n",
    "print(string_from_int)\n",
    "print(list_from_string)\n",
    "print(tuple_from_list)\n",
    "print(set_from_list)"
   ]
  },
  {
   "cell_type": "code",
   "execution_count": 4,
   "metadata": {},
   "outputs": [
    {
     "name": "stdout",
     "output_type": "stream",
     "text": [
      "['one piece', 'jujutsu kaisen', 'wind breaker']\n",
      "['one piece', 'jujutsu kaisen', 'wind breaker']\n",
      "['one piece', 'jujutsu kaisen', 'wind breaker']\n",
      "0\n",
      "1\n",
      "2\n",
      "3\n",
      "4\n"
     ]
    }
   ],
   "source": [
    "# Looping Statements\n",
    "# For loop\n",
    "animes = [\"one piece\", \"jujutsu kaisen\", \"wind breaker\"]\n",
    "for anime in animes:\n",
    "    print(animes)\n",
    "\n",
    "# While loop\n",
    "count = 0\n",
    "while count < 5:\n",
    "    print(count)\n",
    "    count += 1"
   ]
  },
  {
   "cell_type": "code",
   "execution_count": 5,
   "metadata": {},
   "outputs": [
    {
     "name": "stdout",
     "output_type": "stream",
     "text": [
      "0\n",
      "1\n",
      "2\n",
      "3\n",
      "4\n",
      "0\n",
      "1\n",
      "2\n",
      "3\n",
      "4\n",
      "6\n",
      "7\n",
      "8\n",
      "9\n"
     ]
    }
   ],
   "source": [
    "# Jumping Statements\n",
    "# break statement\n",
    "for i in range(10):\n",
    "    if i == 5:\n",
    "        break\n",
    "    print(i)\n",
    "\n",
    "# continue statement\n",
    "for i in range(10):\n",
    "    if i == 5:\n",
    "        continue\n",
    "    print(i)"
   ]
  },
  {
   "cell_type": "code",
   "execution_count": 9,
   "metadata": {},
   "outputs": [
    {
     "name": "stdout",
     "output_type": "stream",
     "text": [
      "3\n",
      "2518785592128\n",
      "<class 'list'>\n",
      "0\n",
      "1\n",
      "2\n",
      "3\n",
      "4\n"
     ]
    }
   ],
   "source": [
    "# Special Functions\n",
    "names = [\"sai venkat\", \"venu\", \"anushka\"]\n",
    "\n",
    "# len()\n",
    "print(len(names))  \n",
    "\n",
    "# id()\n",
    "print(id(names))  \n",
    "\n",
    "# type()\n",
    "print(type(names))  \n",
    "\n",
    "# range()\n",
    "for i in range(5):\n",
    "    print(i) "
   ]
  },
  {
   "cell_type": "code",
   "execution_count": 10,
   "metadata": {},
   "outputs": [
    {
     "name": "stdout",
     "output_type": "stream",
     "text": [
      "Hello World!\n"
     ]
    }
   ],
   "source": [
    "#this function prints a greeting message\n",
    "def greet(name): \n",
    "    print(\"Hello\", name + \"!\")\n",
    "greet(\"World\")"
   ]
  },
  {
   "cell_type": "code",
   "execution_count": null,
   "metadata": {},
   "outputs": [],
   "source": [
    "#calculates the area of rectangle\n",
    "\n",
    "def calculate_area(length, width):\n",
    "  return length * width\n",
    "area = calculate_area(10, 20) \n",
    "print(area)  "
   ]
  },
  {
   "cell_type": "code",
   "execution_count": 12,
   "metadata": {},
   "outputs": [
    {
     "name": "stdout",
     "output_type": "stream",
     "text": [
      "404.3333333333333\n",
      "Please provide at least one number.\n"
     ]
    }
   ],
   "source": [
    "#This function calculates the average of any number of arguments.\n",
    "\n",
    "def calculate_average(*numbers):\n",
    "  if len(numbers) == 0:\n",
    "    print()\n",
    "    return\n",
    "  return sum(numbers) / len(numbers)\n",
    "\n",
    "average = calculate_average(324,454, 435)\n",
    "print(average)  \n",
    "calculate_average()  "
   ]
  },
  {
   "cell_type": "code",
   "execution_count": null,
   "metadata": {},
   "outputs": [],
   "source": [
    "#sorting a list based on lengh \n",
    "\n",
    "lambda arguments : expression \n",
    "add = lambda x, y: x + y\n",
    "result = add(1, 2)\n",
    "print(result)  \n",
    "\n",
    "greeting = lambda name: f\"Hello, {name}!\"\n",
    "print(greeting(\"Anushka\"))\n",
    "words = [\"apple\", \"banana\", \"mango\", \"grapes\"]\n",
    "sorted_words = sorted(words, key=lambda word: len(word))\n",
    "print(sorted_words)"
   ]
  },
  {
   "cell_type": "code",
   "execution_count": null,
   "metadata": {},
   "outputs": [],
   "source": [
    "# map()\n",
    "numbers = [1, 2, 3, 4, 5]\n",
    "\n",
    "# Squaring each number using map() and a lambda function\n",
    "squared_numbers = map(lambda x: x * x, numbers)\n",
    "\n",
    "# map() returns an iterator, convert it to a list for printing\n",
    "print(list(squared_numbers))"
   ]
  },
  {
   "cell_type": "code",
   "execution_count": 13,
   "metadata": {},
   "outputs": [
    {
     "name": "stdout",
     "output_type": "stream",
     "text": [
      "[2, 4, 6]\n"
     ]
    }
   ],
   "source": [
    "#filter()\n",
    "numbers = [1, 2, 3, 4, 5, 6]\n",
    "\n",
    "# Filtering even numbers using filter() and a lambda function\n",
    "even_numbers = filter(lambda x: x % 2 == 0, numbers)\n",
    "\n",
    "# filter() also returns an iterator, convert it to a list for printing\n",
    "print(list(even_numbers)) "
   ]
  },
  {
   "cell_type": "code",
   "execution_count": null,
   "metadata": {},
   "outputs": [],
   "source": [
    "# Finding the product of all elements using reduce\n",
    "\n",
    "from functools import reduce  \n",
    "numbers = [1, 2, 3, 4]\n",
    "product = reduce(lambda x, y: x * y, numbers)\n",
    "print(product) \n",
    "\n",
    "#alternative approach \n",
    "product = 1\n",
    "for num in numbers:\n",
    "  product *= num\n",
    "\n",
    "print(product)"
   ]
  },
  {
   "cell_type": "code",
   "execution_count": null,
   "metadata": {},
   "outputs": [],
   "source": [
    "# return function\n",
    "def square(x):\n",
    "  return x * x\n",
    "result = square(5)\n",
    "print(result)"
   ]
  },
  {
   "cell_type": "code",
   "execution_count": 14,
   "metadata": {},
   "outputs": [
    {
     "name": "stdout",
     "output_type": "stream",
     "text": [
      "Outside function: 30\n",
      "Inside function: 30 70\n"
     ]
    }
   ],
   "source": [
    "#local and global variable\n",
    "\n",
    "x = 30 \n",
    "\n",
    "def my_function():\n",
    "  y = 70 \n",
    "  print(\"Inside function:\", x, y) \n",
    "  def inner_function():\n",
    "    z = 40\n",
    "  inner_function()  \n",
    "print(\"Outside function:\", x)  \n",
    "my_function()\n"
   ]
  }
 ],
 "metadata": {
  "kernelspec": {
   "display_name": "Python 3",
   "language": "python",
   "name": "python3"
  },
  "language_info": {
   "codemirror_mode": {
    "name": "ipython",
    "version": 3
   },
   "file_extension": ".py",
   "mimetype": "text/x-python",
   "name": "python",
   "nbconvert_exporter": "python",
   "pygments_lexer": "ipython3",
   "version": "3.12.2"
  }
 },
 "nbformat": 4,
 "nbformat_minor": 2
}
